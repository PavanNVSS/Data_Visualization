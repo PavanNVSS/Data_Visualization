{
 "cells": [
  {
   "cell_type": "markdown",
   "id": "94641ded",
   "metadata": {
    "papermill": {
     "duration": 0.01446,
     "end_time": "2023-04-30T06:47:04.991157",
     "exception": false,
     "start_time": "2023-04-30T06:47:04.976697",
     "status": "completed"
    },
    "tags": []
   },
   "source": [
    "**This notebook is an exercise in the [Data Visualization](https://www.kaggle.com/learn/data-visualization) course.  You can reference the tutorial at [this link](https://www.kaggle.com/alexisbcook/scatter-plots).**\n",
    "\n",
    "---\n"
   ]
  },
  {
   "cell_type": "markdown",
   "id": "4e65b55d",
   "metadata": {
    "papermill": {
     "duration": 0.009365,
     "end_time": "2023-04-30T06:47:05.010689",
     "exception": false,
     "start_time": "2023-04-30T06:47:05.001324",
     "status": "completed"
    },
    "tags": []
   },
   "source": [
    "In this exercise, you will use your new knowledge to propose a solution to a real-world scenario.  To succeed, you will need to import data into Python, answer questions using the data, and generate **scatter plots** to understand patterns in the data.\n",
    "\n",
    "## Scenario\n",
    "\n",
    "You work for a major candy producer, and your goal is to write a report that your company can use to guide the design of its next product.  Soon after starting your research, you stumble across this [very interesting dataset](https://fivethirtyeight.com/features/the-ultimate-halloween-candy-power-ranking/) containing results from a fun survey to crowdsource favorite candies.\n",
    "\n",
    "## Setup\n",
    "\n",
    "Run the next cell to import and configure the Python libraries that you need to complete the exercise."
   ]
  },
  {
   "cell_type": "code",
   "execution_count": 1,
   "id": "ec53a4ee",
   "metadata": {
    "execution": {
     "iopub.execute_input": "2023-04-30T06:47:05.038934Z",
     "iopub.status.busy": "2023-04-30T06:47:05.038017Z",
     "iopub.status.idle": "2023-04-30T06:47:06.305865Z",
     "shell.execute_reply": "2023-04-30T06:47:06.304623Z"
    },
    "papermill": {
     "duration": 1.284358,
     "end_time": "2023-04-30T06:47:06.309290",
     "exception": false,
     "start_time": "2023-04-30T06:47:05.024932",
     "status": "completed"
    },
    "tags": []
   },
   "outputs": [
    {
     "name": "stdout",
     "output_type": "stream",
     "text": [
      "Setup Complete\n"
     ]
    }
   ],
   "source": [
    "import pandas as pd\n",
    "pd.plotting.register_matplotlib_converters()\n",
    "import matplotlib.pyplot as plt\n",
    "%matplotlib inline\n",
    "import seaborn as sns\n",
    "print(\"Setup Complete\")"
   ]
  },
  {
   "cell_type": "markdown",
   "id": "54607d5d",
   "metadata": {
    "papermill": {
     "duration": 0.009444,
     "end_time": "2023-04-30T06:47:06.328617",
     "exception": false,
     "start_time": "2023-04-30T06:47:06.319173",
     "status": "completed"
    },
    "tags": []
   },
   "source": [
    "The questions below will give you feedback on your work. Run the following cell to set up our feedback system."
   ]
  },
  {
   "cell_type": "code",
   "execution_count": 2,
   "id": "c123bba7",
   "metadata": {
    "execution": {
     "iopub.execute_input": "2023-04-30T06:47:06.349668Z",
     "iopub.status.busy": "2023-04-30T06:47:06.349185Z",
     "iopub.status.idle": "2023-04-30T06:47:06.412006Z",
     "shell.execute_reply": "2023-04-30T06:47:06.410427Z"
    },
    "papermill": {
     "duration": 0.076705,
     "end_time": "2023-04-30T06:47:06.414834",
     "exception": false,
     "start_time": "2023-04-30T06:47:06.338129",
     "status": "completed"
    },
    "tags": []
   },
   "outputs": [
    {
     "name": "stdout",
     "output_type": "stream",
     "text": [
      "Setup Complete\n"
     ]
    }
   ],
   "source": [
    "# Set up code checking\n",
    "import os\n",
    "if not os.path.exists(\"../input/candy.csv\"):\n",
    "    os.symlink(\"../input/data-for-datavis/candy.csv\", \"../input/candy.csv\") \n",
    "from learntools.core import binder\n",
    "binder.bind(globals())\n",
    "from learntools.data_viz_to_coder.ex4 import *\n",
    "print(\"Setup Complete\")"
   ]
  },
  {
   "cell_type": "markdown",
   "id": "b68b4044",
   "metadata": {
    "papermill": {
     "duration": 0.009482,
     "end_time": "2023-04-30T06:47:06.435387",
     "exception": false,
     "start_time": "2023-04-30T06:47:06.425905",
     "status": "completed"
    },
    "tags": []
   },
   "source": [
    "## Step 1: Load the Data\n",
    "\n",
    "Read the candy data file into `candy_data`.  Use the `\"id\"` column to label the rows."
   ]
  },
  {
   "cell_type": "code",
   "execution_count": 3,
   "id": "79f74d3e",
   "metadata": {
    "execution": {
     "iopub.execute_input": "2023-04-30T06:47:06.460501Z",
     "iopub.status.busy": "2023-04-30T06:47:06.459423Z",
     "iopub.status.idle": "2023-04-30T06:47:06.468839Z",
     "shell.execute_reply": "2023-04-30T06:47:06.467579Z"
    },
    "papermill": {
     "duration": 0.025345,
     "end_time": "2023-04-30T06:47:06.471634",
     "exception": false,
     "start_time": "2023-04-30T06:47:06.446289",
     "status": "completed"
    },
    "tags": []
   },
   "outputs": [],
   "source": [
    "# Path of the file to read\n",
    "candy_filepath = \"../input/candy.csv\"\n",
    "# Fill in the line below to read the file into a variable candy_data\n",
    "candy_data = pd.read_csv(candy_filepath, index_col=\"id\")"
   ]
  },
  {
   "cell_type": "code",
   "execution_count": 4,
   "id": "a34c910c",
   "metadata": {
    "execution": {
     "iopub.execute_input": "2023-04-30T06:47:06.493209Z",
     "iopub.status.busy": "2023-04-30T06:47:06.492362Z",
     "iopub.status.idle": "2023-04-30T06:47:06.504610Z",
     "shell.execute_reply": "2023-04-30T06:47:06.503186Z"
    },
    "papermill": {
     "duration": 0.025598,
     "end_time": "2023-04-30T06:47:06.507054",
     "exception": false,
     "start_time": "2023-04-30T06:47:06.481456",
     "status": "completed"
    },
    "tags": []
   },
   "outputs": [
    {
     "data": {
      "application/javascript": [
       "parent.postMessage({\"jupyterEvent\": \"custom.exercise_interaction\", \"data\": {\"outcomeType\": 1, \"valueTowardsCompletion\": 0.3333333333333333, \"interactionType\": 1, \"questionType\": 1, \"questionId\": \"1_LoadData\", \"learnToolsVersion\": \"0.3.4\", \"failureMessage\": \"\", \"exceptionClass\": \"\", \"trace\": \"\"}}, \"*\")"
      ],
      "text/plain": [
       "<IPython.core.display.Javascript object>"
      ]
     },
     "metadata": {},
     "output_type": "display_data"
    },
    {
     "data": {
      "text/markdown": [
       "<span style=\"color:#33cc33\">Correct</span>"
      ],
      "text/plain": [
       "Correct"
      ]
     },
     "metadata": {},
     "output_type": "display_data"
    }
   ],
   "source": [
    "step_1.check()"
   ]
  },
  {
   "cell_type": "code",
   "execution_count": 5,
   "id": "cd456868",
   "metadata": {
    "execution": {
     "iopub.execute_input": "2023-04-30T06:47:06.528143Z",
     "iopub.status.busy": "2023-04-30T06:47:06.527700Z",
     "iopub.status.idle": "2023-04-30T06:47:06.534359Z",
     "shell.execute_reply": "2023-04-30T06:47:06.532948Z"
    },
    "papermill": {
     "duration": 0.020006,
     "end_time": "2023-04-30T06:47:06.536753",
     "exception": false,
     "start_time": "2023-04-30T06:47:06.516747",
     "status": "completed"
    },
    "tags": []
   },
   "outputs": [],
   "source": [
    "# Lines below will give you a hint or solution code\n",
    "#step_1.hint()\n",
    "#step_1.solution()"
   ]
  },
  {
   "cell_type": "markdown",
   "id": "37bc3b2b",
   "metadata": {
    "papermill": {
     "duration": 0.011236,
     "end_time": "2023-04-30T06:47:06.557916",
     "exception": false,
     "start_time": "2023-04-30T06:47:06.546680",
     "status": "completed"
    },
    "tags": []
   },
   "source": [
    "## Step 2: Review the data\n",
    "\n",
    "Use a Python command to print the first five rows of the data."
   ]
  },
  {
   "cell_type": "code",
   "execution_count": 6,
   "id": "49d8703e",
   "metadata": {
    "execution": {
     "iopub.execute_input": "2023-04-30T06:47:06.579112Z",
     "iopub.status.busy": "2023-04-30T06:47:06.578712Z",
     "iopub.status.idle": "2023-04-30T06:47:06.611525Z",
     "shell.execute_reply": "2023-04-30T06:47:06.610105Z"
    },
    "papermill": {
     "duration": 0.046662,
     "end_time": "2023-04-30T06:47:06.614242",
     "exception": false,
     "start_time": "2023-04-30T06:47:06.567580",
     "status": "completed"
    },
    "tags": []
   },
   "outputs": [
    {
     "data": {
      "text/html": [
       "<div>\n",
       "<style scoped>\n",
       "    .dataframe tbody tr th:only-of-type {\n",
       "        vertical-align: middle;\n",
       "    }\n",
       "\n",
       "    .dataframe tbody tr th {\n",
       "        vertical-align: top;\n",
       "    }\n",
       "\n",
       "    .dataframe thead th {\n",
       "        text-align: right;\n",
       "    }\n",
       "</style>\n",
       "<table border=\"1\" class=\"dataframe\">\n",
       "  <thead>\n",
       "    <tr style=\"text-align: right;\">\n",
       "      <th></th>\n",
       "      <th>competitorname</th>\n",
       "      <th>chocolate</th>\n",
       "      <th>fruity</th>\n",
       "      <th>caramel</th>\n",
       "      <th>peanutyalmondy</th>\n",
       "      <th>nougat</th>\n",
       "      <th>crispedricewafer</th>\n",
       "      <th>hard</th>\n",
       "      <th>bar</th>\n",
       "      <th>pluribus</th>\n",
       "      <th>sugarpercent</th>\n",
       "      <th>pricepercent</th>\n",
       "      <th>winpercent</th>\n",
       "    </tr>\n",
       "    <tr>\n",
       "      <th>id</th>\n",
       "      <th></th>\n",
       "      <th></th>\n",
       "      <th></th>\n",
       "      <th></th>\n",
       "      <th></th>\n",
       "      <th></th>\n",
       "      <th></th>\n",
       "      <th></th>\n",
       "      <th></th>\n",
       "      <th></th>\n",
       "      <th></th>\n",
       "      <th></th>\n",
       "      <th></th>\n",
       "    </tr>\n",
       "  </thead>\n",
       "  <tbody>\n",
       "    <tr>\n",
       "      <th>0</th>\n",
       "      <td>100 Grand</td>\n",
       "      <td>Yes</td>\n",
       "      <td>No</td>\n",
       "      <td>Yes</td>\n",
       "      <td>No</td>\n",
       "      <td>No</td>\n",
       "      <td>Yes</td>\n",
       "      <td>No</td>\n",
       "      <td>Yes</td>\n",
       "      <td>No</td>\n",
       "      <td>0.732</td>\n",
       "      <td>0.860</td>\n",
       "      <td>66.971725</td>\n",
       "    </tr>\n",
       "    <tr>\n",
       "      <th>1</th>\n",
       "      <td>3 Musketeers</td>\n",
       "      <td>Yes</td>\n",
       "      <td>No</td>\n",
       "      <td>No</td>\n",
       "      <td>No</td>\n",
       "      <td>Yes</td>\n",
       "      <td>No</td>\n",
       "      <td>No</td>\n",
       "      <td>Yes</td>\n",
       "      <td>No</td>\n",
       "      <td>0.604</td>\n",
       "      <td>0.511</td>\n",
       "      <td>67.602936</td>\n",
       "    </tr>\n",
       "    <tr>\n",
       "      <th>2</th>\n",
       "      <td>Air Heads</td>\n",
       "      <td>No</td>\n",
       "      <td>Yes</td>\n",
       "      <td>No</td>\n",
       "      <td>No</td>\n",
       "      <td>No</td>\n",
       "      <td>No</td>\n",
       "      <td>No</td>\n",
       "      <td>No</td>\n",
       "      <td>No</td>\n",
       "      <td>0.906</td>\n",
       "      <td>0.511</td>\n",
       "      <td>52.341465</td>\n",
       "    </tr>\n",
       "    <tr>\n",
       "      <th>3</th>\n",
       "      <td>Almond Joy</td>\n",
       "      <td>Yes</td>\n",
       "      <td>No</td>\n",
       "      <td>No</td>\n",
       "      <td>Yes</td>\n",
       "      <td>No</td>\n",
       "      <td>No</td>\n",
       "      <td>No</td>\n",
       "      <td>Yes</td>\n",
       "      <td>No</td>\n",
       "      <td>0.465</td>\n",
       "      <td>0.767</td>\n",
       "      <td>50.347546</td>\n",
       "    </tr>\n",
       "    <tr>\n",
       "      <th>4</th>\n",
       "      <td>Baby Ruth</td>\n",
       "      <td>Yes</td>\n",
       "      <td>No</td>\n",
       "      <td>Yes</td>\n",
       "      <td>Yes</td>\n",
       "      <td>Yes</td>\n",
       "      <td>No</td>\n",
       "      <td>No</td>\n",
       "      <td>Yes</td>\n",
       "      <td>No</td>\n",
       "      <td>0.604</td>\n",
       "      <td>0.767</td>\n",
       "      <td>56.914547</td>\n",
       "    </tr>\n",
       "  </tbody>\n",
       "</table>\n",
       "</div>"
      ],
      "text/plain": [
       "   competitorname chocolate fruity caramel peanutyalmondy nougat  \\\n",
       "id                                                                 \n",
       "0       100 Grand       Yes     No     Yes             No     No   \n",
       "1    3 Musketeers       Yes     No      No             No    Yes   \n",
       "2       Air Heads        No    Yes      No             No     No   \n",
       "3      Almond Joy       Yes     No      No            Yes     No   \n",
       "4       Baby Ruth       Yes     No     Yes            Yes    Yes   \n",
       "\n",
       "   crispedricewafer hard  bar pluribus  sugarpercent  pricepercent  winpercent  \n",
       "id                                                                              \n",
       "0               Yes   No  Yes       No         0.732         0.860   66.971725  \n",
       "1                No   No  Yes       No         0.604         0.511   67.602936  \n",
       "2                No   No   No       No         0.906         0.511   52.341465  \n",
       "3                No   No  Yes       No         0.465         0.767   50.347546  \n",
       "4                No   No  Yes       No         0.604         0.767   56.914547  "
      ]
     },
     "execution_count": 6,
     "metadata": {},
     "output_type": "execute_result"
    }
   ],
   "source": [
    "# Print the first five rows of the data\n",
    "candy_data.head()"
   ]
  },
  {
   "cell_type": "markdown",
   "id": "97594a78",
   "metadata": {
    "papermill": {
     "duration": 0.010803,
     "end_time": "2023-04-30T06:47:06.635391",
     "exception": false,
     "start_time": "2023-04-30T06:47:06.624588",
     "status": "completed"
    },
    "tags": []
   },
   "source": [
    "The dataset contains 83 rows, where each corresponds to a different candy bar.  There are 13 columns:\n",
    "- `'competitorname'` contains the name of the candy bar. \n",
    "- the next **9** columns (from `'chocolate'` to `'pluribus'`) describe the candy.  For instance, rows with chocolate candies have `\"Yes\"` in the `'chocolate'` column (and candies without chocolate have `\"No\"` in the same column).\n",
    "- `'sugarpercent'` provides some indication of the amount of sugar, where higher values signify higher sugar content.\n",
    "- `'pricepercent'` shows the price per unit, relative to the other candies in the dataset.\n",
    "- `'winpercent'` is calculated from the survey results; higher values indicate that the candy was more popular with survey respondents.\n",
    "\n",
    "Use the first five rows of the data to answer the questions below."
   ]
  },
  {
   "cell_type": "code",
   "execution_count": 7,
   "id": "8a86bbca",
   "metadata": {
    "execution": {
     "iopub.execute_input": "2023-04-30T06:47:06.659793Z",
     "iopub.status.busy": "2023-04-30T06:47:06.659357Z",
     "iopub.status.idle": "2023-04-30T06:47:06.669524Z",
     "shell.execute_reply": "2023-04-30T06:47:06.668387Z"
    },
    "papermill": {
     "duration": 0.024763,
     "end_time": "2023-04-30T06:47:06.671822",
     "exception": false,
     "start_time": "2023-04-30T06:47:06.647059",
     "status": "completed"
    },
    "tags": []
   },
   "outputs": [
    {
     "data": {
      "application/javascript": [
       "parent.postMessage({\"jupyterEvent\": \"custom.exercise_interaction\", \"data\": {\"outcomeType\": 1, \"valueTowardsCompletion\": 0.3333333333333333, \"interactionType\": 1, \"questionType\": 1, \"questionId\": \"2_ReviewData\", \"learnToolsVersion\": \"0.3.4\", \"failureMessage\": \"\", \"exceptionClass\": \"\", \"trace\": \"\"}}, \"*\")"
      ],
      "text/plain": [
       "<IPython.core.display.Javascript object>"
      ]
     },
     "metadata": {},
     "output_type": "display_data"
    },
    {
     "data": {
      "text/markdown": [
       "<span style=\"color:#33cc33\">Correct</span>"
      ],
      "text/plain": [
       "Correct"
      ]
     },
     "metadata": {},
     "output_type": "display_data"
    }
   ],
   "source": [
    "# Fill in the line below: Which candy was more popular with survey respondents:\n",
    "# '3 Musketeers' or 'Almond Joy'?  (Please enclose your answer in single quotes.)\n",
    "more_popular = '3 Musketeers'\n",
    "\n",
    "# Fill in the line below: Which candy has higher sugar content: 'Air Heads'\n",
    "# or 'Baby Ruth'? (Please enclose your answer in single quotes.)\n",
    "more_sugar = 'Air Heads'\n",
    "\n",
    "# Check your answers\n",
    "step_2.check()"
   ]
  },
  {
   "cell_type": "code",
   "execution_count": 8,
   "id": "11e3b9ec",
   "metadata": {
    "execution": {
     "iopub.execute_input": "2023-04-30T06:47:06.695565Z",
     "iopub.status.busy": "2023-04-30T06:47:06.694393Z",
     "iopub.status.idle": "2023-04-30T06:47:06.699404Z",
     "shell.execute_reply": "2023-04-30T06:47:06.698135Z"
    },
    "papermill": {
     "duration": 0.019535,
     "end_time": "2023-04-30T06:47:06.701983",
     "exception": false,
     "start_time": "2023-04-30T06:47:06.682448",
     "status": "completed"
    },
    "tags": []
   },
   "outputs": [],
   "source": [
    "# Lines below will give you a hint or solution code\n",
    "#step_2.hint()\n",
    "#step_2.solution()"
   ]
  },
  {
   "cell_type": "markdown",
   "id": "1b61fb27",
   "metadata": {
    "papermill": {
     "duration": 0.009646,
     "end_time": "2023-04-30T06:47:06.721687",
     "exception": false,
     "start_time": "2023-04-30T06:47:06.712041",
     "status": "completed"
    },
    "tags": []
   },
   "source": [
    "## Step 3: The role of sugar\n",
    "\n",
    "Do people tend to prefer candies with higher sugar content?  \n",
    "\n",
    "#### Part A\n",
    "\n",
    "Create a scatter plot that shows the relationship between `'sugarpercent'` (on the horizontal x-axis) and `'winpercent'` (on the vertical y-axis).  _Don't add a regression line just yet -- you'll do that in the next step!_"
   ]
  },
  {
   "cell_type": "code",
   "execution_count": 9,
   "id": "6b3e91e2",
   "metadata": {
    "execution": {
     "iopub.execute_input": "2023-04-30T06:47:06.744083Z",
     "iopub.status.busy": "2023-04-30T06:47:06.743596Z",
     "iopub.status.idle": "2023-04-30T06:47:07.096335Z",
     "shell.execute_reply": "2023-04-30T06:47:07.094882Z"
    },
    "papermill": {
     "duration": 0.367553,
     "end_time": "2023-04-30T06:47:07.099269",
     "exception": false,
     "start_time": "2023-04-30T06:47:06.731716",
     "status": "completed"
    },
    "tags": []
   },
   "outputs": [
    {
     "data": {
      "application/javascript": [
       "parent.postMessage({\"jupyterEvent\": \"custom.exercise_interaction\", \"data\": {\"outcomeType\": 1, \"valueTowardsCompletion\": 0.3333333333333333, \"interactionType\": 1, \"questionType\": 2, \"questionId\": \"3.1_PlotBlueScatter\", \"learnToolsVersion\": \"0.3.4\", \"failureMessage\": \"\", \"exceptionClass\": \"\", \"trace\": \"\"}}, \"*\")"
      ],
      "text/plain": [
       "<IPython.core.display.Javascript object>"
      ]
     },
     "metadata": {},
     "output_type": "display_data"
    },
    {
     "data": {
      "text/markdown": [
       "<span style=\"color:#33cc33\">Correct</span>"
      ],
      "text/plain": [
       "Correct"
      ]
     },
     "metadata": {},
     "output_type": "display_data"
    },
    {
     "data": {
      "image/png": "[encoded data removed]",
      "text/plain": [
       "<Figure size 640x480 with 1 Axes>"
      ]
     },
     "metadata": {},
     "output_type": "display_data"
    }
   ],
   "source": [
    "# Scatter plot showing the relationship between 'sugarpercent' and 'winpercent'\n",
    "sns.scatterplot(x=candy_data['sugarpercent'], y=candy_data['winpercent'])\n",
    "# Check your answer\n",
    "step_3.a.check()\n",
    "plt.show()"
   ]
  },
  {
   "cell_type": "code",
   "execution_count": 10,
   "id": "58835399",
   "metadata": {
    "execution": {
     "iopub.execute_input": "2023-04-30T06:47:07.124080Z",
     "iopub.status.busy": "2023-04-30T06:47:07.123664Z",
     "iopub.status.idle": "2023-04-30T06:47:07.128421Z",
     "shell.execute_reply": "2023-04-30T06:47:07.127272Z"
    },
    "papermill": {
     "duration": 0.020429,
     "end_time": "2023-04-30T06:47:07.131055",
     "exception": false,
     "start_time": "2023-04-30T06:47:07.110626",
     "status": "completed"
    },
    "tags": []
   },
   "outputs": [],
   "source": [
    "# Lines below will give you a hint or solution code\n",
    "#step_3.a.hint()\n",
    "#step_3.a.solution_plot()"
   ]
  },
  {
   "cell_type": "markdown",
   "id": "5e5c3c18",
   "metadata": {
    "papermill": {
     "duration": 0.010979,
     "end_time": "2023-04-30T06:47:07.153171",
     "exception": false,
     "start_time": "2023-04-30T06:47:07.142192",
     "status": "completed"
    },
    "tags": []
   },
   "source": [
    "#### Part B\n",
    "\n",
    "Does the scatter plot show a **strong** correlation between the two variables?  If so, are candies with more sugar relatively more or less popular with the survey respondents?"
   ]
  },
  {
   "cell_type": "code",
   "execution_count": 11,
   "id": "4c83bbd7",
   "metadata": {
    "execution": {
     "iopub.execute_input": "2023-04-30T06:47:07.177816Z",
     "iopub.status.busy": "2023-04-30T06:47:07.177389Z",
     "iopub.status.idle": "2023-04-30T06:47:07.182210Z",
     "shell.execute_reply": "2023-04-30T06:47:07.180908Z"
    },
    "papermill": {
     "duration": 0.019941,
     "end_time": "2023-04-30T06:47:07.184681",
     "exception": false,
     "start_time": "2023-04-30T06:47:07.164740",
     "status": "completed"
    },
    "tags": []
   },
   "outputs": [],
   "source": [
    "#step_3.b.hint()"
   ]
  },
  {
   "cell_type": "code",
   "execution_count": 12,
   "id": "f7cbd974",
   "metadata": {
    "execution": {
     "iopub.execute_input": "2023-04-30T06:47:07.208280Z",
     "iopub.status.busy": "2023-04-30T06:47:07.207891Z",
     "iopub.status.idle": "2023-04-30T06:47:07.217247Z",
     "shell.execute_reply": "2023-04-30T06:47:07.216181Z"
    },
    "papermill": {
     "duration": 0.024037,
     "end_time": "2023-04-30T06:47:07.219438",
     "exception": false,
     "start_time": "2023-04-30T06:47:07.195401",
     "status": "completed"
    },
    "tags": []
   },
   "outputs": [
    {
     "data": {
      "application/javascript": [
       "parent.postMessage({\"jupyterEvent\": \"custom.exercise_interaction\", \"data\": {\"interactionType\": 3, \"questionType\": 4, \"questionId\": \"3.2_ThinkBlueScatter\", \"learnToolsVersion\": \"0.3.4\", \"valueTowardsCompletion\": 0.0, \"failureMessage\": \"\", \"exceptionClass\": \"\", \"trace\": \"\", \"outcomeType\": 4}}, \"*\")"
      ],
      "text/plain": [
       "<IPython.core.display.Javascript object>"
      ]
     },
     "metadata": {},
     "output_type": "display_data"
    },
    {
     "data": {
      "text/markdown": [
       "<span style=\"color:#33cc99\">Solution:</span> The scatter plot does not show a strong correlation between the two variables. Since there is no clear relationship between the two variables, this tells us that sugar content does not play a strong role in candy popularity."
      ],
      "text/plain": [
       "Solution: The scatter plot does not show a strong correlation between the two variables. Since there is no clear relationship between the two variables, this tells us that sugar content does not play a strong role in candy popularity."
      ]
     },
     "metadata": {},
     "output_type": "display_data"
    }
   ],
   "source": [
    "# Check your answer (Run this code cell to receive credit!)\n",
    "step_3.b.solution()"
   ]
  },
  {
   "cell_type": "markdown",
   "id": "afdfbd92",
   "metadata": {
    "papermill": {
     "duration": 0.010628,
     "end_time": "2023-04-30T06:47:07.241434",
     "exception": false,
     "start_time": "2023-04-30T06:47:07.230806",
     "status": "completed"
    },
    "tags": []
   },
   "source": [
    "## Step 4: Take a closer look\n",
    "\n",
    "#### Part A\n",
    "\n",
    "Create the same scatter plot you created in **Step 3**, but now with a regression line!"
   ]
  },
  {
   "cell_type": "code",
   "execution_count": 13,
   "id": "fc8b9a90",
   "metadata": {
    "execution": {
     "iopub.execute_input": "2023-04-30T06:47:07.265779Z",
     "iopub.status.busy": "2023-04-30T06:47:07.265029Z",
     "iopub.status.idle": "2023-04-30T06:47:07.609034Z",
     "shell.execute_reply": "2023-04-30T06:47:07.607583Z"
    },
    "papermill": {
     "duration": 0.359478,
     "end_time": "2023-04-30T06:47:07.612091",
     "exception": false,
     "start_time": "2023-04-30T06:47:07.252613",
     "status": "completed"
    },
    "tags": []
   },
   "outputs": [
    {
     "data": {
      "application/javascript": [
       "parent.postMessage({\"jupyterEvent\": \"custom.exercise_interaction\", \"data\": {\"outcomeType\": 1, \"valueTowardsCompletion\": 0.3333333333333333, \"interactionType\": 1, \"questionType\": 2, \"questionId\": \"4.1_PlotBlueReg\", \"learnToolsVersion\": \"0.3.4\", \"failureMessage\": \"\", \"exceptionClass\": \"\", \"trace\": \"\"}}, \"*\")"
      ],
      "text/plain": [
       "<IPython.core.display.Javascript object>"
      ]
     },
     "metadata": {},
     "output_type": "display_data"
    },
    {
     "data": {
      "text/markdown": [
       "<span style=\"color:#33cc33\">Correct</span>"
      ],
      "text/plain": [
       "Correct"
      ]
     },
     "metadata": {},
     "output_type": "display_data"
    },
    {
     "data": {
      "image/png": "[encoded data removed]",
      "text/plain": [
       "<Figure size 640x480 with 1 Axes>"
      ]
     },
     "metadata": {},
     "output_type": "display_data"
    }
   ],
   "source": [
    "# Scatter plot w/ regression line showing the relationship between 'sugarpercent' and 'winpercent'\n",
    "sns.regplot(x=candy_data['sugarpercent'], y=candy_data['winpercent'])\n",
    "# Check your answer\n",
    "step_4.a.check()\n",
    "plt.show()"
   ]
  },
  {
   "cell_type": "code",
   "execution_count": 14,
   "id": "e9d0eb5e",
   "metadata": {
    "execution": {
     "iopub.execute_input": "2023-04-30T06:47:07.638434Z",
     "iopub.status.busy": "2023-04-30T06:47:07.637492Z",
     "iopub.status.idle": "2023-04-30T06:47:07.642220Z",
     "shell.execute_reply": "2023-04-30T06:47:07.641244Z"
    },
    "papermill": {
     "duration": 0.020066,
     "end_time": "2023-04-30T06:47:07.644554",
     "exception": false,
     "start_time": "2023-04-30T06:47:07.624488",
     "status": "completed"
    },
    "tags": []
   },
   "outputs": [],
   "source": [
    "# Lines below will give you a hint or solution code\n",
    "#step_4.a.hint()\n",
    "#step_4.a.solution_plot()"
   ]
  },
  {
   "cell_type": "markdown",
   "id": "4affe10f",
   "metadata": {
    "papermill": {
     "duration": 0.011282,
     "end_time": "2023-04-30T06:47:07.667534",
     "exception": false,
     "start_time": "2023-04-30T06:47:07.656252",
     "status": "completed"
    },
    "tags": []
   },
   "source": [
    "#### Part B\n",
    "\n",
    "According to the plot above, is there a **slight** correlation between `'winpercent'` and `'sugarpercent'`?  What does this tell you about the candy that people tend to prefer?"
   ]
  },
  {
   "cell_type": "code",
   "execution_count": 15,
   "id": "8de56960",
   "metadata": {
    "execution": {
     "iopub.execute_input": "2023-04-30T06:47:07.693755Z",
     "iopub.status.busy": "2023-04-30T06:47:07.692282Z",
     "iopub.status.idle": "2023-04-30T06:47:07.697844Z",
     "shell.execute_reply": "2023-04-30T06:47:07.696606Z"
    },
    "papermill": {
     "duration": 0.02132,
     "end_time": "2023-04-30T06:47:07.700576",
     "exception": false,
     "start_time": "2023-04-30T06:47:07.679256",
     "status": "completed"
    },
    "tags": []
   },
   "outputs": [],
   "source": [
    "#step_4.b.hint()"
   ]
  },
  {
   "cell_type": "code",
   "execution_count": 16,
   "id": "68904eb4",
   "metadata": {
    "execution": {
     "iopub.execute_input": "2023-04-30T06:47:07.726563Z",
     "iopub.status.busy": "2023-04-30T06:47:07.725930Z",
     "iopub.status.idle": "2023-04-30T06:47:07.736054Z",
     "shell.execute_reply": "2023-04-30T06:47:07.734828Z"
    },
    "papermill": {
     "duration": 0.026048,
     "end_time": "2023-04-30T06:47:07.738523",
     "exception": false,
     "start_time": "2023-04-30T06:47:07.712475",
     "status": "completed"
    },
    "tags": []
   },
   "outputs": [
    {
     "data": {
      "application/javascript": [
       "parent.postMessage({\"jupyterEvent\": \"custom.exercise_interaction\", \"data\": {\"interactionType\": 3, \"questionType\": 4, \"questionId\": \"4.2_ThinkBlueReg\", \"learnToolsVersion\": \"0.3.4\", \"valueTowardsCompletion\": 0.0, \"failureMessage\": \"\", \"exceptionClass\": \"\", \"trace\": \"\", \"outcomeType\": 4}}, \"*\")"
      ],
      "text/plain": [
       "<IPython.core.display.Javascript object>"
      ]
     },
     "metadata": {},
     "output_type": "display_data"
    },
    {
     "data": {
      "text/markdown": [
       "<span style=\"color:#33cc99\">Solution:</span> Since the regression line has a slightly positive slope, this tells us that there is a slightly positive correlation between `'winpercent'` and `'sugarpercent'`. Thus, people have a slight preference for candies containing relatively more sugar."
      ],
      "text/plain": [
       "Solution: Since the regression line has a slightly positive slope, this tells us that there is a slightly positive correlation between `'winpercent'` and `'sugarpercent'`. Thus, people have a slight preference for candies containing relatively more sugar."
      ]
     },
     "metadata": {},
     "output_type": "display_data"
    }
   ],
   "source": [
    "# Check your answer (Run this code cell to receive credit!)\n",
    "step_4.b.solution()"
   ]
  },
  {
   "cell_type": "markdown",
   "id": "5bf3c2b2",
   "metadata": {
    "papermill": {
     "duration": 0.011797,
     "end_time": "2023-04-30T06:47:07.762731",
     "exception": false,
     "start_time": "2023-04-30T06:47:07.750934",
     "status": "completed"
    },
    "tags": []
   },
   "source": [
    "## Step 5: Chocolate!\n",
    "\n",
    "In the code cell below, create a scatter plot to show the relationship between `'pricepercent'` (on the horizontal x-axis) and `'winpercent'` (on the vertical y-axis). Use the `'chocolate'` column to color-code the points.  _Don't add any regression lines just yet -- you'll do that in the next step!_"
   ]
  },
  {
   "cell_type": "code",
   "execution_count": 17,
   "id": "939bb175",
   "metadata": {
    "execution": {
     "iopub.execute_input": "2023-04-30T06:47:07.790700Z",
     "iopub.status.busy": "2023-04-30T06:47:07.789898Z",
     "iopub.status.idle": "2023-04-30T06:47:08.078669Z",
     "shell.execute_reply": "2023-04-30T06:47:08.077350Z"
    },
    "papermill": {
     "duration": 0.305697,
     "end_time": "2023-04-30T06:47:08.081479",
     "exception": false,
     "start_time": "2023-04-30T06:47:07.775782",
     "status": "completed"
    },
    "tags": []
   },
   "outputs": [
    {
     "data": {
      "application/javascript": [
       "parent.postMessage({\"jupyterEvent\": \"custom.exercise_interaction\", \"data\": {\"outcomeType\": 1, \"valueTowardsCompletion\": 0.3333333333333333, \"interactionType\": 1, \"questionType\": 2, \"questionId\": \"5_ColorScatter\", \"learnToolsVersion\": \"0.3.4\", \"failureMessage\": \"\", \"exceptionClass\": \"\", \"trace\": \"\"}}, \"*\")"
      ],
      "text/plain": [
       "<IPython.core.display.Javascript object>"
      ]
     },
     "metadata": {},
     "output_type": "display_data"
    },
    {
     "data": {
      "text/markdown": [
       "<span style=\"color:#33cc33\">Correct</span>"
      ],
      "text/plain": [
       "Correct"
      ]
     },
     "metadata": {},
     "output_type": "display_data"
    },
    {
     "data": {
      "image/png": "[encoded data removed]",
      "text/plain": [
       "<Figure size 640x480 with 1 Axes>"
      ]
     },
     "metadata": {},
     "output_type": "display_data"
    }
   ],
   "source": [
    "# Scatter plot showing the relationship between 'pricepercent', 'winpercent', and 'chocolate'\n",
    "sns.scatterplot(x=candy_data['pricepercent'], y=candy_data['winpercent'], hue=candy_data['chocolate'])\n",
    "# Check your answer\n",
    "step_5.check()\n",
    "plt.show()"
   ]
  },
  {
   "cell_type": "code",
   "execution_count": 18,
   "id": "0cb76d86",
   "metadata": {
    "execution": {
     "iopub.execute_input": "2023-04-30T06:47:08.110636Z",
     "iopub.status.busy": "2023-04-30T06:47:08.110174Z",
     "iopub.status.idle": "2023-04-30T06:47:08.115276Z",
     "shell.execute_reply": "2023-04-30T06:47:08.114056Z"
    },
    "papermill": {
     "duration": 0.022407,
     "end_time": "2023-04-30T06:47:08.118103",
     "exception": false,
     "start_time": "2023-04-30T06:47:08.095696",
     "status": "completed"
    },
    "tags": []
   },
   "outputs": [],
   "source": [
    "# Lines below will give you a hint or solution code\n",
    "#step_5.hint()\n",
    "#step_5.solution_plot()"
   ]
  },
  {
   "cell_type": "markdown",
   "id": "ab4ceec0",
   "metadata": {
    "papermill": {
     "duration": 0.012597,
     "end_time": "2023-04-30T06:47:08.143919",
     "exception": false,
     "start_time": "2023-04-30T06:47:08.131322",
     "status": "completed"
    },
    "tags": []
   },
   "source": [
    "Can you see any interesting patterns in the scatter plot?  We'll investigate this plot further  by adding regression lines in the next step!\n",
    "\n",
    "## Step 6: Investigate chocolate\n",
    "\n",
    "#### Part A\n",
    "\n",
    "Create the same scatter plot you created in **Step 5**, but now with two regression lines, corresponding to (1) chocolate candies and (2) candies without chocolate."
   ]
  },
  {
   "cell_type": "code",
   "execution_count": 19,
   "id": "250a1a88",
   "metadata": {
    "execution": {
     "iopub.execute_input": "2023-04-30T06:47:08.174988Z",
     "iopub.status.busy": "2023-04-30T06:47:08.174475Z",
     "iopub.status.idle": "2023-04-30T06:47:08.881424Z",
     "shell.execute_reply": "2023-04-30T06:47:08.880060Z"
    },
    "papermill": {
     "duration": 0.725053,
     "end_time": "2023-04-30T06:47:08.884166",
     "exception": false,
     "start_time": "2023-04-30T06:47:08.159113",
     "status": "completed"
    },
    "tags": []
   },
   "outputs": [
    {
     "data": {
      "application/javascript": [
       "parent.postMessage({\"jupyterEvent\": \"custom.exercise_interaction\", \"data\": {\"outcomeType\": 1, \"valueTowardsCompletion\": 0.3333333333333333, \"interactionType\": 1, \"questionType\": 2, \"questionId\": \"6.1_PlotColorReg\", \"learnToolsVersion\": \"0.3.4\", \"failureMessage\": \"\", \"exceptionClass\": \"\", \"trace\": \"\"}}, \"*\")"
      ],
      "text/plain": [
       "<IPython.core.display.Javascript object>"
      ]
     },
     "metadata": {},
     "output_type": "display_data"
    },
    {
     "data": {
      "text/markdown": [
       "<span style=\"color:#33cc33\">Correct</span>"
      ],
      "text/plain": [
       "Correct"
      ]
     },
     "metadata": {},
     "output_type": "display_data"
    },
    {
     "data": {
      "image/png": "[encoded data removed]",
      "text/plain": [
       "<Figure size 578.611x500 with 1 Axes>"
      ]
     },
     "metadata": {},
     "output_type": "display_data"
    }
   ],
   "source": [
    "# Color-coded scatter plot w/ regression lines\n",
    "sns.lmplot(x=\"pricepercent\", y=\"winpercent\", hue=\"chocolate\", data=candy_data)\n",
    "# Check your answer\n",
    "step_6.a.check()"
   ]
  },
  {
   "cell_type": "code",
   "execution_count": 20,
   "id": "e856af68",
   "metadata": {
    "execution": {
     "iopub.execute_input": "2023-04-30T06:47:08.914316Z",
     "iopub.status.busy": "2023-04-30T06:47:08.913544Z",
     "iopub.status.idle": "2023-04-30T06:47:08.919490Z",
     "shell.execute_reply": "2023-04-30T06:47:08.918419Z"
    },
    "papermill": {
     "duration": 0.023491,
     "end_time": "2023-04-30T06:47:08.921985",
     "exception": false,
     "start_time": "2023-04-30T06:47:08.898494",
     "status": "completed"
    },
    "tags": []
   },
   "outputs": [],
   "source": [
    "# Lines below will give you a hint or solution code\n",
    "#step_6.a.hint()\n",
    "#step_6.a.solution_plot()"
   ]
  },
  {
   "cell_type": "markdown",
   "id": "95aae273",
   "metadata": {
    "papermill": {
     "duration": 0.013054,
     "end_time": "2023-04-30T06:47:08.948897",
     "exception": false,
     "start_time": "2023-04-30T06:47:08.935843",
     "status": "completed"
    },
    "tags": []
   },
   "source": [
    "#### Part B\n",
    "\n",
    "Using the regression lines, what conclusions can you draw about the effects of chocolate and price on candy popularity?"
   ]
  },
  {
   "cell_type": "code",
   "execution_count": 21,
   "id": "381d854a",
   "metadata": {
    "execution": {
     "iopub.execute_input": "2023-04-30T06:47:08.979722Z",
     "iopub.status.busy": "2023-04-30T06:47:08.978504Z",
     "iopub.status.idle": "2023-04-30T06:47:08.983912Z",
     "shell.execute_reply": "2023-04-30T06:47:08.982799Z"
    },
    "papermill": {
     "duration": 0.023883,
     "end_time": "2023-04-30T06:47:08.986733",
     "exception": false,
     "start_time": "2023-04-30T06:47:08.962850",
     "status": "completed"
    },
    "tags": []
   },
   "outputs": [],
   "source": [
    "#step_6.b.hint()"
   ]
  },
  {
   "cell_type": "code",
   "execution_count": 22,
   "id": "f4458108",
   "metadata": {
    "execution": {
     "iopub.execute_input": "2023-04-30T06:47:09.017687Z",
     "iopub.status.busy": "2023-04-30T06:47:09.017257Z",
     "iopub.status.idle": "2023-04-30T06:47:09.026801Z",
     "shell.execute_reply": "2023-04-30T06:47:09.025593Z"
    },
    "papermill": {
     "duration": 0.027761,
     "end_time": "2023-04-30T06:47:09.029481",
     "exception": false,
     "start_time": "2023-04-30T06:47:09.001720",
     "status": "completed"
    },
    "tags": []
   },
   "outputs": [
    {
     "data": {
      "application/javascript": [
       "parent.postMessage({\"jupyterEvent\": \"custom.exercise_interaction\", \"data\": {\"interactionType\": 3, \"questionType\": 4, \"questionId\": \"6.2_ThinkColorReg\", \"learnToolsVersion\": \"0.3.4\", \"valueTowardsCompletion\": 0.0, \"failureMessage\": \"\", \"exceptionClass\": \"\", \"trace\": \"\", \"outcomeType\": 4}}, \"*\")"
      ],
      "text/plain": [
       "<IPython.core.display.Javascript object>"
      ]
     },
     "metadata": {},
     "output_type": "display_data"
    },
    {
     "data": {
      "text/markdown": [
       "<span style=\"color:#33cc99\">Solution:</span> We'll begin with the regression line for chocolate candies. Since this line has a slightly positive slope, we can say that more expensive chocolate candies tend to be more popular (than relatively cheaper chocolate candies).  Likewise, since the regression line for candies without chocolate has a negative slope, we can say that if candies don't contain chocolate, they tend to be more popular when they are cheaper.  One important note, however, is that the dataset is quite small -- so we shouldn't invest too much trust in these patterns!  To inspire more confidence in the results, we should add more candies to the dataset."
      ],
      "text/plain": [
       "Solution: We'll begin with the regression line for chocolate candies. Since this line has a slightly positive slope, we can say that more expensive chocolate candies tend to be more popular (than relatively cheaper chocolate candies).  Likewise, since the regression line for candies without chocolate has a negative slope, we can say that if candies don't contain chocolate, they tend to be more popular when they are cheaper.  One important note, however, is that the dataset is quite small -- so we shouldn't invest too much trust in these patterns!  To inspire more confidence in the results, we should add more candies to the dataset."
      ]
     },
     "metadata": {},
     "output_type": "display_data"
    }
   ],
   "source": [
    "# Check your answer (Run this code cell to receive credit!)\n",
    "step_6.b.solution()"
   ]
  },
  {
   "cell_type": "markdown",
   "id": "c40c1c37",
   "metadata": {
    "papermill": {
     "duration": 0.013915,
     "end_time": "2023-04-30T06:47:09.057457",
     "exception": false,
     "start_time": "2023-04-30T06:47:09.043542",
     "status": "completed"
    },
    "tags": []
   },
   "source": [
    "## Step 7: Everybody loves chocolate.\n",
    "\n",
    "#### Part A\n",
    "\n",
    "Create a categorical scatter plot to highlight the relationship between `'chocolate'` and `'winpercent'`.  Put `'chocolate'` on the (horizontal) x-axis, and `'winpercent'` on the (vertical) y-axis."
   ]
  },
  {
   "cell_type": "code",
   "execution_count": 23,
   "id": "2bc77c9a",
   "metadata": {
    "execution": {
     "iopub.execute_input": "2023-04-30T06:47:09.087620Z",
     "iopub.status.busy": "2023-04-30T06:47:09.087189Z",
     "iopub.status.idle": "2023-04-30T06:47:09.517303Z",
     "shell.execute_reply": "2023-04-30T06:47:09.515372Z"
    },
    "papermill": {
     "duration": 0.450693,
     "end_time": "2023-04-30T06:47:09.522230",
     "exception": false,
     "start_time": "2023-04-30T06:47:09.071537",
     "status": "completed"
    },
    "tags": []
   },
   "outputs": [
    {
     "data": {
      "application/javascript": [
       "parent.postMessage({\"jupyterEvent\": \"custom.exercise_interaction\", \"data\": {\"outcomeType\": 1, \"valueTowardsCompletion\": 0.3333333333333333, \"interactionType\": 1, \"questionType\": 2, \"questionId\": \"7.1_PlotSwarm\", \"learnToolsVersion\": \"0.3.4\", \"failureMessage\": \"\", \"exceptionClass\": \"\", \"trace\": \"\"}}, \"*\")"
      ],
      "text/plain": [
       "<IPython.core.display.Javascript object>"
      ]
     },
     "metadata": {},
     "output_type": "display_data"
    },
    {
     "data": {
      "text/markdown": [
       "<span style=\"color:#33cc33\">Correct</span>"
      ],
      "text/plain": [
       "Correct"
      ]
     },
     "metadata": {},
     "output_type": "display_data"
    },
    {
     "data": {
      "image/png": "[encoded data removed]",
      "text/plain": [
       "<Figure size 640x480 with 1 Axes>"
      ]
     },
     "metadata": {},
     "output_type": "display_data"
    }
   ],
   "source": [
    "# Scatter plot showing the relationship between 'chocolate' and 'winpercent'\n",
    "sns.swarmplot(x=candy_data['chocolate'], y=candy_data['winpercent'])\n",
    "# Check your answer\n",
    "step_7.a.check()\n",
    "plt.show()"
   ]
  },
  {
   "cell_type": "code",
   "execution_count": 24,
   "id": "4e2927a4",
   "metadata": {
    "execution": {
     "iopub.execute_input": "2023-04-30T06:47:09.573691Z",
     "iopub.status.busy": "2023-04-30T06:47:09.572438Z",
     "iopub.status.idle": "2023-04-30T06:47:09.577279Z",
     "shell.execute_reply": "2023-04-30T06:47:09.576421Z"
    },
    "papermill": {
     "duration": 0.023139,
     "end_time": "2023-04-30T06:47:09.579488",
     "exception": false,
     "start_time": "2023-04-30T06:47:09.556349",
     "status": "completed"
    },
    "tags": []
   },
   "outputs": [],
   "source": [
    "# Lines below will give you a hint or solution code\n",
    "#step_7.a.hint()\n",
    "#step_7.a.solution_plot()"
   ]
  },
  {
   "cell_type": "markdown",
   "id": "289cd4c9",
   "metadata": {
    "papermill": {
     "duration": 0.015623,
     "end_time": "2023-04-30T06:47:09.609879",
     "exception": false,
     "start_time": "2023-04-30T06:47:09.594256",
     "status": "completed"
    },
    "tags": []
   },
   "source": [
    "#### Part B\n",
    "\n",
    "You decide to dedicate a section of your report to the fact that chocolate candies tend to be more popular than candies without chocolate.  Which plot is more appropriate to tell this story: the plot from **Step 6**, or the plot from **Step 7**?"
   ]
  },
  {
   "cell_type": "code",
   "execution_count": 25,
   "id": "86bb120b",
   "metadata": {
    "execution": {
     "iopub.execute_input": "2023-04-30T06:47:09.642872Z",
     "iopub.status.busy": "2023-04-30T06:47:09.641567Z",
     "iopub.status.idle": "2023-04-30T06:47:09.647257Z",
     "shell.execute_reply": "2023-04-30T06:47:09.645987Z"
    },
    "papermill": {
     "duration": 0.025244,
     "end_time": "2023-04-30T06:47:09.650236",
     "exception": false,
     "start_time": "2023-04-30T06:47:09.624992",
     "status": "completed"
    },
    "tags": []
   },
   "outputs": [],
   "source": [
    "#step_7.b.hint()"
   ]
  },
  {
   "cell_type": "code",
   "execution_count": 26,
   "id": "64a6282a",
   "metadata": {
    "execution": {
     "iopub.execute_input": "2023-04-30T06:47:09.681317Z",
     "iopub.status.busy": "2023-04-30T06:47:09.680890Z",
     "iopub.status.idle": "2023-04-30T06:47:09.690754Z",
     "shell.execute_reply": "2023-04-30T06:47:09.689788Z"
    },
    "papermill": {
     "duration": 0.028249,
     "end_time": "2023-04-30T06:47:09.693028",
     "exception": false,
     "start_time": "2023-04-30T06:47:09.664779",
     "status": "completed"
    },
    "tags": []
   },
   "outputs": [
    {
     "data": {
      "application/javascript": [
       "parent.postMessage({\"jupyterEvent\": \"custom.exercise_interaction\", \"data\": {\"interactionType\": 3, \"questionType\": 4, \"questionId\": \"7.2_ThinkSwarm\", \"learnToolsVersion\": \"0.3.4\", \"valueTowardsCompletion\": 0.0, \"failureMessage\": \"\", \"exceptionClass\": \"\", \"trace\": \"\", \"outcomeType\": 4}}, \"*\")"
      ],
      "text/plain": [
       "<IPython.core.display.Javascript object>"
      ]
     },
     "metadata": {},
     "output_type": "display_data"
    },
    {
     "data": {
      "text/markdown": [
       "<span style=\"color:#33cc99\">Solution:</span> In this case, the categorical scatter plot from **Step 7** is the more appropriate plot. While both plots tell the desired story, the plot from **Step 6** conveys far more information that could distract from the main point."
      ],
      "text/plain": [
       "Solution: In this case, the categorical scatter plot from **Step 7** is the more appropriate plot. While both plots tell the desired story, the plot from **Step 6** conveys far more information that could distract from the main point."
      ]
     },
     "metadata": {},
     "output_type": "display_data"
    }
   ],
   "source": [
    "# Check your answer (Run this code cell to receive credit!)\n",
    "step_7.b.solution()"
   ]
  },
  {
   "cell_type": "markdown",
   "id": "84b2aa57",
   "metadata": {
    "papermill": {
     "duration": 0.01442,
     "end_time": "2023-04-30T06:47:09.722220",
     "exception": false,
     "start_time": "2023-04-30T06:47:09.707800",
     "status": "completed"
    },
    "tags": []
   },
   "source": [
    "## Keep going\n",
    "\n",
    "Explore **[histograms and density plots](https://www.kaggle.com/alexisbcook/distributions)**."
   ]
  },
  {
   "cell_type": "markdown",
   "id": "cf9154c3",
   "metadata": {
    "papermill": {
     "duration": 0.014804,
     "end_time": "2023-04-30T06:47:09.752234",
     "exception": false,
     "start_time": "2023-04-30T06:47:09.737430",
     "status": "completed"
    },
    "tags": []
   },
   "source": [
    "---\n",
    "\n",
    "\n",
    "\n",
    "\n",
    "*Have questions or comments? Visit the [course discussion forum](https://www.kaggle.com/learn/data-visualization/discussion) to chat with other learners.*"
   ]
  }
 ],
 "metadata": {
  "kernelspec": {
   "display_name": "Python 3",
   "language": "python",
   "name": "python3"
  },
  "language_info": {
   "codemirror_mode": {
    "name": "ipython",
    "version": 3
   },
   "file_extension": ".py",
   "mimetype": "text/x-python",
   "name": "python",
   "nbconvert_exporter": "python",
   "pygments_lexer": "ipython3",
   "version": "3.7.12"
  },
  "papermill": {
   "default_parameters": {},
   "duration": 16.630105,
   "end_time": "2023-04-30T06:47:10.592807",
   "environment_variables": {},
   "exception": null,
   "input_path": "__notebook__.ipynb",
   "output_path": "__notebook__.ipynb",
   "parameters": {},
   "start_time": "2023-04-30T06:46:53.962702",
   "version": "2.4.0"
  }
 },
 "nbformat": 4,
 "nbformat_minor": 5
}
